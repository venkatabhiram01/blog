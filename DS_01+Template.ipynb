{
  "cells": [
    {
      "cell_type": "markdown",
      "metadata": {
        "id": "view-in-github",
        "colab_type": "text"
      },
      "source": [
        "<a href=\"https://colab.research.google.com/github/venkatabhiram01/blog/blob/master/DS_01%2BTemplate.ipynb\" target=\"_parent\"><img src=\"https://colab.research.google.com/assets/colab-badge.svg\" alt=\"Open In Colab\"/></a>"
      ]
    },
    {
      "cell_type": "markdown",
      "metadata": {
        "id": "ANb-uCpVnzvh"
      },
      "source": [
        "# Internship on Data Science at InfraBIM\n",
        "**DS-01: Assignment - Descriptive Analysis on Interns Past Academic Performance**"
      ]
    },
    {
      "cell_type": "markdown",
      "metadata": {
        "id": "2_DKzionnzvt"
      },
      "source": [
        "Team No.:<br>\n",
        "Reg. No.:<br>\n",
        "Name:<br>\n",
        "Date:"
      ]
    },
    {
      "cell_type": "code",
      "execution_count": 19,
      "metadata": {
        "id": "3Dh21C3cJNzB"
      },
      "outputs": [],
      "source": [
        "# Import Libraries\n",
        "import pandas as pd \n",
        "from matplotlib import pyplot as plt\n",
        "import numpy as np\n",
        "from scipy.stats import variation"
      ]
    },
    {
      "cell_type": "markdown",
      "metadata": {
        "id": "6MIgCvrpbb7H"
      },
      "source": [
        "**Loading Dataset**"
      ]
    },
    {
      "cell_type": "code",
      "execution_count": 4,
      "metadata": {
        "colab": {
          "base_uri": "https://localhost:8080/"
        },
        "id": "lcyqcRNlnzv1",
        "outputId": "e1889f7e-45ef-4f15-f52c-2259e6fa4996"
      },
      "outputs": [
        {
          "output_type": "stream",
          "name": "stdout",
          "text": [
            "     StudentNo  DEGREE  INTERMEDIATE   SSC                      INTERNSHIP\n",
            "0         1001    8.10          76.0  92.0                    Data Science\n",
            "1         1002    8.10          76.0  92.0      MEAN Stack Web Development\n",
            "2         1003    7.80          94.6  92.0      MEAN Stack Web Development\n",
            "3         1004    9.03          89.5  89.0                    Data Science\n",
            "4         1005    8.38          87.0  90.0      MEAN Stack Web Development\n",
            "..         ...     ...           ...   ...                             ...\n",
            "292       2188    8.70          94.1  93.0                    Data Science\n",
            "293       2189    8.45          90.0  93.0                    Data Science\n",
            "294       2190    8.40          94.9  98.0                    Data Science\n",
            "295       2191    7.06          90.6  88.0  Cloud Computing Services (AWS)\n",
            "296       2192    7.50          95.5  95.0  Cloud Computing Services (AWS)\n",
            "\n",
            "[297 rows x 5 columns]\n"
          ]
        }
      ],
      "source": [
        "# Load the CSV Data into a DataFrame\n",
        "url = \"https://internships-data.s3.ap-south-1.amazonaws.com/interns+data/Enrollments_28092022.csv\"\n",
        "df = pd.read_csv(url)\n",
        "print(df)"
      ]
    },
    {
      "cell_type": "markdown",
      "metadata": {
        "id": "1MBFT_7Cfrvy"
      },
      "source": [
        "**Q1. Identify Variables and their Types (Quantitative or Qualitative)**"
      ]
    },
    {
      "cell_type": "code",
      "execution_count": 20,
      "metadata": {
        "colab": {
          "base_uri": "https://localhost:8080/"
        },
        "id": "ZGRvV2_Jnzv7",
        "outputId": "ca08ca09-fafb-42de-e5ab-ab88c42621cb"
      },
      "outputs": [
        {
          "output_type": "stream",
          "name": "stdout",
          "text": [
            "StudentNo         int64\n",
            "DEGREE          float64\n",
            "INTERMEDIATE    float64\n",
            "SSC             float64\n",
            "INTERNSHIP       object\n",
            "dtype: object\n"
          ]
        }
      ],
      "source": [
        "print(df.dtypes)"
      ]
    },
    {
      "cell_type": "markdown",
      "metadata": {
        "id": "wmR-K4SQnzv8"
      },
      "source": [
        "**<font color='blue'>Q1. Answer </font>**\n",
        "<br>\n",
        "<b>Categorical Data:</b>StudentNo, INTERNSHIP<br>\n",
        "<b>Numerical Data:</b>DEGREE, INTERMEDIATE, SSC"
      ]
    },
    {
      "cell_type": "markdown",
      "metadata": {
        "id": "zXSjDx-vnzv9"
      },
      "source": [
        "**Q2. Size of Data (No. of Rows and Columns)**"
      ]
    },
    {
      "cell_type": "code",
      "execution_count": 5,
      "metadata": {
        "colab": {
          "base_uri": "https://localhost:8080/"
        },
        "id": "O96t6DAYnzv-",
        "outputId": "5b39275d-e450-4dce-b9a5-e782c3e670ba"
      },
      "outputs": [
        {
          "output_type": "stream",
          "name": "stdout",
          "text": [
            "Rows:  297\n",
            "Attributes:  5\n"
          ]
        }
      ],
      "source": [
        "\n",
        "Rows = len(df.axes[0])\n",
        "cols = len(df.axes[1])\n",
        "print(\"Rows: \",Rows);\n",
        "print(\"Attributes: \",cols);"
      ]
    },
    {
      "cell_type": "markdown",
      "metadata": {
        "id": "GMG02MC1nzv_"
      },
      "source": [
        "**<font color='blue'>Q2. Answer </font>**\n",
        "<br>\n",
        "<b>Rows:</b> 297 <br>\n",
        "<b>Attributes: </b> 5"
      ]
    },
    {
      "cell_type": "markdown",
      "metadata": {
        "id": "TZ2K4lpCnzwB"
      },
      "source": [
        "**Q3. Create Histogram**"
      ]
    },
    {
      "cell_type": "code",
      "execution_count": 48,
      "metadata": {
        "colab": {
          "base_uri": "https://localhost:8080/",
          "height": 325
        },
        "id": "Vqufe7-PnzwC",
        "outputId": "da8eeed4-d924-4fc3-8512-52752211c25c"
      },
      "outputs": [
        {
          "output_type": "display_data",
          "data": {
            "text/plain": [
              "<Figure size 432x288 with 1 Axes>"
            ],
            "image/png": "[encoded data removed]"
          },
          "metadata": {}
        }
      ],
      "source": [
        "# Generate Histogram - It is a graphical representation of a grouped frequency distribution with continuous classes\n",
        "studentID=df.iloc[:,0].to_numpy();\n",
        "degree=df.iloc[:,1].to_numpy()\n",
        "degree=degree*9.5#converting cgpa to percentage\n",
        "intermediate=df.iloc[:,2].to_numpy()\n",
        "ssc=df.iloc[:,3].to_numpy()\n",
        "plt.title(\"HISTOGRAM\")\n",
        "plt.style.use(\"fivethirtyeight\")\n",
        "plt.xlabel(\"percentage\")\n",
        "plt.hist([degree,intermediate,ssc],label=['degree','intermediate','ssc'],alpha=0.9)\n",
        "plt.ylabel(\"number of students\")\n",
        "plt.show()\n"
      ]
    },
    {
      "cell_type": "markdown",
      "metadata": {
        "id": "npcyFdCInzwD"
      },
      "source": [
        "**Q4. Create Pie-Chart to represent the Enrollments for each Internship Program**"
      ]
    },
    {
      "cell_type": "code",
      "execution_count": 21,
      "metadata": {
        "colab": {
          "base_uri": "https://localhost:8080/",
          "height": 358
        },
        "id": "ry55jEUxnzwF",
        "outputId": "576bafd9-7b4a-4c96-a780-6e6fb4f5aed6"
      },
      "outputs": [
        {
          "output_type": "stream",
          "name": "stdout",
          "text": [
            "Data Science                      52.525253\n",
            "Cloud Computing Services (AWS)    30.303030\n",
            "MEAN Stack Web Development        17.171717\n",
            "Name: INTERNSHIP, dtype: float64\n"
          ]
        },
        {
          "output_type": "display_data",
          "data": {
            "text/plain": [
              "<Figure size 432x288 with 1 Axes>"
            ],
            "image/png": "[encoded data removed]"
          },
          "metadata": {}
        }
      ],
      "source": [
        "plt.style.use(\"fivethirtyeight\")\n",
        "d=df.INTERNSHIP.value_counts(normalize=True)*100\n",
        "print(d)#displays the percentage of students in each program\n",
        "slices=df.INTERNSHIP.value_counts(normalize=True).to_list()\n",
        "labels=['Data Science','cloud computing','Web development(MEAN)']\n",
        "plt.pie(slices,labels=labels,wedgeprops={'edgecolor':'black'},autopct='%1.1f%%')\n",
        "plt.title(\"Enrollment for each program\")\n",
        "plt.tight_layout()\n",
        "plt.show()"
      ]
    },
    {
      "cell_type": "markdown",
      "metadata": {
        "id": "gpJ0YngfnzwF"
      },
      "source": [
        "**Q5. Find No. of Enrollments for each Internship Program**"
      ]
    },
    {
      "cell_type": "code",
      "execution_count": 22,
      "metadata": {
        "colab": {
          "base_uri": "https://localhost:8080/"
        },
        "id": "GHxXe9pBnzwG",
        "outputId": "bbb82d0d-8a56-4a3b-8f8b-c1579051c24c"
      },
      "outputs": [
        {
          "output_type": "stream",
          "name": "stdout",
          "text": [
            "MEAN Stack Web Development         51\n",
            "Cloud Computing Services (AWS)     90\n",
            "Data Science                      156\n",
            "Name: INTERNSHIP, dtype: int64\n"
          ]
        }
      ],
      "source": [
        "print(df.INTERNSHIP.value_counts(ascending=True))"
      ]
    },
    {
      "cell_type": "markdown",
      "metadata": {
        "id": "Giym65SsnzwG"
      },
      "source": [
        "**Q6. Find Measure of Central Tendency: MEAN, MEDIAN, MODE**"
      ]
    },
    {
      "cell_type": "code",
      "execution_count": 10,
      "metadata": {
        "colab": {
          "base_uri": "https://localhost:8080/"
        },
        "id": "n7ifRyZonzwH",
        "outputId": "81f7ab75-4973-4870-f9e6-c9a1faf4b81c"
      },
      "outputs": [
        {
          "output_type": "stream",
          "name": "stdout",
          "text": [
            "MEAN OF DEGREE :  7.928080808080809\n",
            "MEAN OF INTERMEDIATE 88.66262626262626\n",
            "MEAN OF SSC 88.10673400673402\n"
          ]
        }
      ],
      "source": [
        "# MEAN \n",
        "x = np.mean(df.DEGREE)\n",
        "y = np.mean(df.INTERMEDIATE)\n",
        "z = np.mean(df.SSC)\n",
        "print(\"MEAN OF DEGREE : \",x)\n",
        "print(\"MEAN OF INTERMEDIATE\",y)\n",
        "print(\"MEAN OF SSC\",z)"
      ]
    },
    {
      "cell_type": "code",
      "execution_count": 14,
      "metadata": {
        "colab": {
          "base_uri": "https://localhost:8080/"
        },
        "id": "vcypx3r5nzwI",
        "outputId": "cb8ee415-5c08-4995-96ba-459db195565c"
      },
      "outputs": [
        {
          "output_type": "stream",
          "name": "stdout",
          "text": [
            "MEDIAN OF DEGREE :  8.0\n",
            "MDIAN OF INTERMEDIATE 90.8\n",
            "MEDIAN OF SSC 90.0\n"
          ]
        }
      ],
      "source": [
        "# MEDIAN\n",
        "x = np.median(df.DEGREE)\n",
        "y = np.median(df.INTERMEDIATE)\n",
        "z = np.median(df.SSC)\n",
        "print(\"MEDIAN OF DEGREE : \",x)\n",
        "print(\"MDIAN OF INTERMEDIATE\",y)\n",
        "print(\"MEDIAN OF SSC\",z)"
      ]
    },
    {
      "cell_type": "code",
      "execution_count": 29,
      "metadata": {
        "colab": {
          "base_uri": "https://localhost:8080/",
          "height": 81
        },
        "id": "JSPJbclNnzwI",
        "outputId": "6d0783e3-8c1a-499c-8ce4-34ea5ba4691d"
      },
      "outputs": [
        {
          "output_type": "execute_result",
          "data": {
            "text/plain": [
              "   DEGREE  INTERMEDIATE   SSC\n",
              "0     7.0          95.0  95.0"
            ],
            "text/html": [
              "\n",
              "  <div id=\"df-6a415000-6f0e-4f45-ad54-a388b2de09f4\">\n",
              "    <div class=\"colab-df-container\">\n",
              "      <div>\n",
              "<style scoped>\n",
              "    .dataframe tbody tr th:only-of-type {\n",
              "        vertical-align: middle;\n",
              "    }\n",
              "\n",
              "    .dataframe tbody tr th {\n",
              "        vertical-align: top;\n",
              "    }\n",
              "\n",
              "    .dataframe thead th {\n",
              "        text-align: right;\n",
              "    }\n",
              "</style>\n",
              "<table border=\"1\" class=\"dataframe\">\n",
              "  <thead>\n",
              "    <tr style=\"text-align: right;\">\n",
              "      <th></th>\n",
              "      <th>DEGREE</th>\n",
              "      <th>INTERMEDIATE</th>\n",
              "      <th>SSC</th>\n",
              "    </tr>\n",
              "  </thead>\n",
              "  <tbody>\n",
              "    <tr>\n",
              "      <th>0</th>\n",
              "      <td>7.0</td>\n",
              "      <td>95.0</td>\n",
              "      <td>95.0</td>\n",
              "    </tr>\n",
              "  </tbody>\n",
              "</table>\n",
              "</div>\n",
              "      <button class=\"colab-df-convert\" onclick=\"convertToInteractive('df-6a415000-6f0e-4f45-ad54-a388b2de09f4')\"\n",
              "              title=\"Convert this dataframe to an interactive table.\"\n",
              "              style=\"display:none;\">\n",
              "        \n",
              "  <svg xmlns=\"http://www.w3.org/2000/svg\" height=\"24px\"viewBox=\"0 0 24 24\"\n",
              "       width=\"24px\">\n",
              "    <path d=\"M0 0h24v24H0V0z\" fill=\"none\"/>\n",
              "    <path d=\"M18.56 5.44l.94 2.06.94-2.06 2.06-.94-2.06-.94-.94-2.06-.94 2.06-2.06.94zm-11 1L8.5 8.5l.94-2.06 2.06-.94-2.06-.94L8.5 2.5l-.94 2.06-2.06.94zm10 10l.94 2.06.94-2.06 2.06-.94-2.06-.94-.94-2.06-.94 2.06-2.06.94z\"/><path d=\"M17.41 7.96l-1.37-1.37c-.4-.4-.92-.59-1.43-.59-.52 0-1.04.2-1.43.59L10.3 9.45l-7.72 7.72c-.78.78-.78 2.05 0 2.83L4 21.41c.39.39.9.59 1.41.59.51 0 1.02-.2 1.41-.59l7.78-7.78 2.81-2.81c.8-.78.8-2.07 0-2.86zM5.41 20L4 18.59l7.72-7.72 1.47 1.35L5.41 20z\"/>\n",
              "  </svg>\n",
              "      </button>\n",
              "      \n",
              "  <style>\n",
              "    .colab-df-container {\n",
              "      display:flex;\n",
              "      flex-wrap:wrap;\n",
              "      gap: 12px;\n",
              "    }\n",
              "\n",
              "    .colab-df-convert {\n",
              "      background-color: #E8F0FE;\n",
              "      border: none;\n",
              "      border-radius: 50%;\n",
              "      cursor: pointer;\n",
              "      display: none;\n",
              "      fill: #1967D2;\n",
              "      height: 32px;\n",
              "      padding: 0 0 0 0;\n",
              "      width: 32px;\n",
              "    }\n",
              "\n",
              "    .colab-df-convert:hover {\n",
              "      background-color: #E2EBFA;\n",
              "      box-shadow: 0px 1px 2px rgba(60, 64, 67, 0.3), 0px 1px 3px 1px rgba(60, 64, 67, 0.15);\n",
              "      fill: #174EA6;\n",
              "    }\n",
              "\n",
              "    [theme=dark] .colab-df-convert {\n",
              "      background-color: #3B4455;\n",
              "      fill: #D2E3FC;\n",
              "    }\n",
              "\n",
              "    [theme=dark] .colab-df-convert:hover {\n",
              "      background-color: #434B5C;\n",
              "      box-shadow: 0px 1px 3px 1px rgba(0, 0, 0, 0.15);\n",
              "      filter: drop-shadow(0px 1px 2px rgba(0, 0, 0, 0.3));\n",
              "      fill: #FFFFFF;\n",
              "    }\n",
              "  </style>\n",
              "\n",
              "      <script>\n",
              "        const buttonEl =\n",
              "          document.querySelector('#df-6a415000-6f0e-4f45-ad54-a388b2de09f4 button.colab-df-convert');\n",
              "        buttonEl.style.display =\n",
              "          google.colab.kernel.accessAllowed ? 'block' : 'none';\n",
              "\n",
              "        async function convertToInteractive(key) {\n",
              "          const element = document.querySelector('#df-6a415000-6f0e-4f45-ad54-a388b2de09f4');\n",
              "          const dataTable =\n",
              "            await google.colab.kernel.invokeFunction('convertToInteractive',\n",
              "                                                     [key], {});\n",
              "          if (!dataTable) return;\n",
              "\n",
              "          const docLinkHtml = 'Like what you see? Visit the ' +\n",
              "            '<a target=\"_blank\" href=https://colab.research.google.com/notebooks/data_table.ipynb>data table notebook</a>'\n",
              "            + ' to learn more about interactive tables.';\n",
              "          element.innerHTML = '';\n",
              "          dataTable['output_type'] = 'display_data';\n",
              "          await google.colab.output.renderOutput(dataTable, element);\n",
              "          const docLink = document.createElement('div');\n",
              "          docLink.innerHTML = docLinkHtml;\n",
              "          element.appendChild(docLink);\n",
              "        }\n",
              "      </script>\n",
              "    </div>\n",
              "  </div>\n",
              "  "
            ]
          },
          "metadata": {},
          "execution_count": 29
        }
      ],
      "source": [
        "# MODE\n",
        "ndf=df.iloc[:,1:4]\n",
        "ndf.mode()"
      ]
    },
    {
      "cell_type": "markdown",
      "metadata": {
        "id": "_za5_ziSnzwJ"
      },
      "source": [
        "**Q7. Find Measure of Variance: Minimum, Maximum, Range, Mean Deviation, Standard Deviation, Co-efficient of Variation**"
      ]
    },
    {
      "cell_type": "code",
      "execution_count": 32,
      "metadata": {
        "colab": {
          "base_uri": "https://localhost:8080/"
        },
        "id": "X5yiKQSsnzwK",
        "outputId": "41ab163d-faf1-4641-b6ec-b1b8655c1a59"
      },
      "outputs": [
        {
          "output_type": "stream",
          "name": "stdout",
          "text": [
            "Minimum values are\n",
            "DEGREE           5.8\n",
            "INTERMEDIATE    65.0\n",
            "SSC             38.4\n",
            "dtype: float64\n"
          ]
        }
      ],
      "source": [
        "# Minimum\n",
        "min=ndf.apply(np.min)\n",
        "print(\"Minimum values are\")\n",
        "print(min)"
      ]
    },
    {
      "cell_type": "code",
      "execution_count": 33,
      "metadata": {
        "colab": {
          "base_uri": "https://localhost:8080/"
        },
        "id": "01_Oe9iJnzwK",
        "outputId": "60efc2b5-a05a-45ba-cd3b-e96115eee466"
      },
      "outputs": [
        {
          "output_type": "stream",
          "name": "stdout",
          "text": [
            "Maximum values are\n",
            "DEGREE           9.53\n",
            "INTERMEDIATE    99.40\n",
            "SSC             99.00\n",
            "dtype: float64\n"
          ]
        }
      ],
      "source": [
        "# Maximum\n",
        "max=ndf.apply(np.max)\n",
        "print(\"Maximum values are\")\n",
        "print(max)"
      ]
    },
    {
      "cell_type": "code",
      "execution_count": 34,
      "metadata": {
        "colab": {
          "base_uri": "https://localhost:8080/"
        },
        "id": "gHkkLi_wnzwK",
        "outputId": "23dafbfa-090a-4b29-9f08-25880ea3b3bb"
      },
      "outputs": [
        {
          "output_type": "stream",
          "name": "stdout",
          "text": [
            "Range values are\n",
            "DEGREE           3.73\n",
            "INTERMEDIATE    34.40\n",
            "SSC             60.60\n",
            "dtype: float64\n"
          ]
        }
      ],
      "source": [
        "# Range\n",
        "range=ndf.apply(np.ptp)\n",
        "print(\"Range values are\")\n",
        "print(range)"
      ]
    },
    {
      "cell_type": "code",
      "execution_count": 36,
      "metadata": {
        "colab": {
          "base_uri": "https://localhost:8080/"
        },
        "id": "BPdXSfeonzwL",
        "outputId": "37bbbb84-7a4b-4015-cd70-24194b1c2112"
      },
      "outputs": [
        {
          "output_type": "stream",
          "name": "stdout",
          "text": [
            "Standard Deviations are\n",
            "DEGREE          0.784255\n",
            "INTERMEDIATE    7.343339\n",
            "SSC             9.012773\n",
            "dtype: float64\n"
          ]
        }
      ],
      "source": [
        "# Standard Deviation\n",
        "std=np.std(ndf)\n",
        "print(\"Standard Deviations are\")\n",
        "print(std)"
      ]
    },
    {
      "cell_type": "code",
      "execution_count": 46,
      "metadata": {
        "colab": {
          "base_uri": "https://localhost:8080/"
        },
        "id": "HBRiv9tunzwL",
        "outputId": "91144fd7-885c-451f-9927-c515af25d423"
      },
      "outputs": [
        {
          "output_type": "stream",
          "name": "stdout",
          "text": [
            " DEGREE   INTERMEDIATE\tSSC\n",
            "[0.09892117 0.08282339 0.1022938 ]\n"
          ]
        }
      ],
      "source": [
        "# Co-effienct of Variation\n",
        "cef=variation(ndf,axis=0)\n",
        "print(\" DEGREE   INTERMEDIATE\\tSSC\")\n",
        "print(cef)"
      ]
    },
    {
      "cell_type": "markdown",
      "metadata": {
        "id": "Pv_nhSErnzwM"
      },
      "source": [
        "**Q8. Measures of Position: Standard Scores, Inter-quartile Range for Degree, Inter and 10th**"
      ]
    },
    {
      "cell_type": "code",
      "execution_count": 52,
      "metadata": {
        "colab": {
          "base_uri": "https://localhost:8080/"
        },
        "id": "dyQfRviTnzwM",
        "outputId": "ec3b651d-0156-4642-a60a-be7b6ddb5d7f"
      },
      "outputs": [
        {
          "output_type": "stream",
          "name": "stdout",
          "text": [
            "1st QUARTILE\n",
            "Degree:\n",
            "7.4\n",
            "Intermediate\n",
            "83.0\n",
            "ssc\n",
            "85.0\n"
          ]
        }
      ],
      "source": [
        "# 1st Quartile\n",
        "print(\"1st QUARTILE\")\n",
        "x=df.iloc[:,1]\n",
        "print(\"Degree:\")\n",
        "print(np.quantile(x,0.25))\n",
        "print(\"Intermediate\")\n",
        "print(np.quantile(intermediate,0.25))\n",
        "print(\"ssc\")\n",
        "print(np.quantile(ssc,0.25))"
      ]
    },
    {
      "cell_type": "code",
      "execution_count": 58,
      "metadata": {
        "colab": {
          "base_uri": "https://localhost:8080/"
        },
        "id": "etD7F5xdnzwN",
        "outputId": "485a9d42-53c0-480d-ce8b-bbabffe02eb1"
      },
      "outputs": [
        {
          "output_type": "stream",
          "name": "stdout",
          "text": [
            "2nd QUARTILE\n",
            "Degree:\n",
            "8.0\n",
            "Intermediate\n",
            "90.8\n",
            "ssc\n",
            "90.0\n"
          ]
        }
      ],
      "source": [
        "# 2nd Quartile or Median\n",
        "print(\"2nd QUARTILE\")\n",
        "print(\"Degree:\")\n",
        "print(np.quantile(x,0.5))\n",
        "print(\"Intermediate\")\n",
        "print(np.quantile(intermediate,0.5))\n",
        "print(\"ssc\")\n",
        "print(np.quantile(ssc,0.5))"
      ]
    },
    {
      "cell_type": "code",
      "execution_count": 57,
      "metadata": {
        "colab": {
          "base_uri": "https://localhost:8080/"
        },
        "id": "AKYK4WLInzwN",
        "outputId": "90e075d7-020d-4a42-c6a4-59e2ca726224"
      },
      "outputs": [
        {
          "output_type": "stream",
          "name": "stdout",
          "text": [
            "3rd QUARTILE\n",
            "Degree:\n",
            "8.56\n",
            "Intermediate\n",
            "94.6\n",
            "ssc\n",
            "95.0\n"
          ]
        }
      ],
      "source": [
        "# 3rd Quartile\n",
        "print(\"3rd QUARTILE\")\n",
        "print(\"Degree:\")\n",
        "print(np.quantile(x,0.75))\n",
        "print(\"Intermediate\")\n",
        "print(np.quantile(intermediate,0.75))\n",
        "print(\"ssc\")\n",
        "print(np.quantile(ssc,0.75))"
      ]
    },
    {
      "cell_type": "code",
      "execution_count": 56,
      "metadata": {
        "colab": {
          "base_uri": "https://localhost:8080/"
        },
        "id": "NKnRhCsYnzwN",
        "outputId": "65cbbb47-553f-4ad0-a604-9a0101b70b9e"
      },
      "outputs": [
        {
          "output_type": "stream",
          "name": "stdout",
          "text": [
            "INTER-QUARTILE\n",
            "Degree:\n",
            "1.1600000000000001\n",
            "Intermediate\n",
            "87.19999999999999\n",
            "ssc\n",
            "87.6\n"
          ]
        }
      ],
      "source": [
        "# Inter-Quartile = Q3 - Q1\n",
        "print(\"INTER-QUARTILE\")\n",
        "print(\"Degree:\")\n",
        "print((np.quantile(x,0.75))-(np.quantile(x,0.25)))\n",
        "print(\"Intermediate\")\n",
        "print(np.quantile(intermediate,0.75)-np.quantile(x,0.25))\n",
        "print(\"ssc\")\n",
        "print(np.quantile(ssc,0.75)-np.quantile(x,0.25))"
      ]
    },
    {
      "cell_type": "markdown",
      "metadata": {
        "id": "M7Hlv36HnzwO"
      },
      "source": [
        "**Q9. Create Box Plot and Identify Outliers**"
      ]
    },
    {
      "cell_type": "code",
      "execution_count": 59,
      "metadata": {
        "colab": {
          "base_uri": "https://localhost:8080/",
          "height": 342
        },
        "id": "yF7mAfyPnzwO",
        "outputId": "743f9b5a-e915-494f-f5a0-cd03a70b890f"
      },
      "outputs": [
        {
          "output_type": "stream",
          "name": "stdout",
          "text": [
            "BOX PLOT FOR DEGREE,INTERMEDIATE,SSC\n"
          ]
        },
        {
          "output_type": "display_data",
          "data": {
            "text/plain": [
              "<Figure size 432x288 with 1 Axes>"
            ],
            "image/png": "[encoded data removed]"
          },
          "metadata": {}
        }
      ],
      "source": [
        "print(\"BOX PLOT FOR DEGREE,INTERMEDIATE,SSC\")\n",
        "plt.boxplot([degree,intermediate,ssc])\n",
        "plt.title(\"BOX PLOT\")\n",
        "plt.xlabel('degree       intermediate          ssc')\n",
        "plt.show()"
      ]
    },
    {
      "cell_type": "markdown",
      "metadata": {
        "id": "QP206qQdnzwO"
      },
      "source": [
        "**Q10. Identify No. of Students with 90% percentile for Degree, Inter and 10th Class**"
      ]
    },
    {
      "cell_type": "code",
      "execution_count": 60,
      "metadata": {
        "colab": {
          "base_uri": "https://localhost:8080/"
        },
        "id": "QsrNsmp7nzwP",
        "outputId": "6129303f-36f0-4b69-f415-0ab14758fddd"
      },
      "outputs": [
        {
          "output_type": "stream",
          "name": "stdout",
          "text": [
            "degree\n",
            "32\n",
            "intermediate\n",
            "32\n",
            "ssc\n",
            "40\n"
          ]
        }
      ],
      "source": [
        "# 90th Percentile or Quantile\n",
        "print(\"degree\")\n",
        "print(len(df[(df.DEGREE >= df.DEGREE.quantile(0.9))]))\n",
        "print(\"intermediate\")\n",
        "print(len(df[(df.INTERMEDIATE >= df.INTERMEDIATE.quantile(0.9))]))\n",
        "print(\"ssc\")\n",
        "print(len(df[(df.SSC >= df.SSC.quantile(0.9))]))"
      ]
    },
    {
      "cell_type": "code",
      "execution_count": null,
      "metadata": {
        "id": "QUOuv7FonzwP"
      },
      "outputs": [],
      "source": []
    }
  ],
  "metadata": {
    "colab": {
      "collapsed_sections": [],
      "provenance": [],
      "include_colab_link": true
    },
    "kernelspec": {
      "display_name": "conda_python3",
      "language": "python",
      "name": "conda_python3"
    },
    "language_info": {
      "codemirror_mode": {
        "name": "ipython",
        "version": 3
      },
      "file_extension": ".py",
      "mimetype": "text/x-python",
      "name": "python",
      "nbconvert_exporter": "python",
      "pygments_lexer": "ipython3",
      "version": "3.8.12"
    }
  },
  "nbformat": 4,
  "nbformat_minor": 0
}